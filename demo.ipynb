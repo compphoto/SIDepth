{
  "cells": [
    {
      "cell_type": "markdown",
      "metadata": {
        "id": "n0uNRlr6FBZC"
      },
      "source": [
        "# Scale-Invariant Monocular Depth Estimation via SSI Depth\n",
        "This Colab Notebook contains an inference on the implementation from  https://github.com/compphoto/SIDepth\n",
        "\n",
        "\n",
        "# Instructions\n",
        "Ensure using a GPU by setting \"Runtime/change runtime type\" to GPU\n",
        "\n",
        "1. Run code section 1\n",
        "\n",
        "2.  Put your test images inside /content/inputs/rgb\n",
        "\n",
        "3. Run code section 2 : it will download the needed model weights and install dependancies.\n",
        "\n",
        "4. Run code section 3 : results will be generated in /content/outputs_SI and /content/outputs_SSI"
      ]
    },
    {
      "cell_type": "code",
      "execution_count": null,
      "metadata": {
        "id": "72uMHamOFBZF",
        "vscode": {
          "languageId": "plaintext"
        }
      },
      "outputs": [],
      "source": [
        "# Code section 1\n",
        "\n",
        "!mkdir -p inputs\n",
        "\n",
        "!mkdir -p outputs_SI\n",
        "!mkdir -p outputs_SSI"
      ]
    },
    {
      "cell_type": "code",
      "execution_count": null,
      "metadata": {
        "id": "kU2--bzWFBZG",
        "vscode": {
          "languageId": "plaintext"
        }
      },
      "outputs": [],
      "source": [
        "# Code section 2\n",
        "\n",
        "# Install dependancies\n",
        "# Clone git repo\n",
        "!git clone https://github.com/compphoto/SIDepth.git\n",
        "\n",
        "# Downloading Our model weights\n",
        "%cd /content/SIDepth/weights\n",
        "!gdown DOWNLOADLINK\n",
        "!unzip weights.zip\n",
        "\n",
        "# Install Requirments\n",
        "%cd /content/SIDEPTH/\n",
        "!pip install -r requirements.txt\n"
      ]
    },
    {
      "cell_type": "code",
      "execution_count": null,
      "metadata": {
        "id": "WRjl_sMZFBZG",
        "vscode": {
          "languageId": "plaintext"
        }
      },
      "outputs": [],
      "source": [
        "# code secton 3\n",
        "\n",
        "# *** Make Sure to put your input images in the appropriate folders before running this section***\n",
        "\n",
        "!python eval.py -i \"/content/inputs\" -o \"/content/outputs_SI\" -m SI --colorize\n",
        "!python eval.py -i \"/content/inputs\" -o \"/content/outputs_SSI\" -m SSI --colorize\n"
      ]
    }
  ],
  "metadata": {
    "accelerator": "GPU",
    "colab": {
      "provenance": []
    },
    "gpuClass": "standard",
    "kernelspec": {
      "display_name": "Python 3",
      "name": "python3"
    },
    "language_info": {
      "name": "python"
    },
    "orig_nbformat": 4
  },
  "nbformat": 4,
  "nbformat_minor": 0
}
